{
 "cells": [
  {
   "cell_type": "code",
   "execution_count": 1,
   "id": "young-stocks",
   "metadata": {},
   "outputs": [],
   "source": [
    "#pip install pyqt5\n",
    "#pip install pyqt5-tools\n",
    "from PyQt5.QtWidgets import *\n",
    "from PyQt5.QtGui import *\n",
    "from PyQt5.QtCore import *\n",
    "from PyQt5 import QtCore, QtGui, QtWidgets, uic\n",
    "import sys"
   ]
  },
  {
   "cell_type": "code",
   "execution_count": 2,
   "id": "statistical-fabric",
   "metadata": {},
   "outputs": [],
   "source": [
    "Ui_Form = uic.loadUiType(\"UI.ui\")[0] # ui 파일 불러오기"
   ]
  },
  {
   "cell_type": "code",
   "execution_count": 3,
   "id": "committed-barbados",
   "metadata": {},
   "outputs": [],
   "source": [
    "class MainWindow(QtWidgets.QMainWindow, Ui_Form):\n",
    "    def __init__(self):\n",
    "        super().__init__()\n",
    "        self.setupUi(self)\n",
    "        self.initUI()\n",
    "    \n",
    "    def initUI(self):\n",
    "        self.setWindowTitle(\"All Eyes\") # 파일 이름 설정\n",
    "        self.ImportImg_btn.clicked.connect(self.image_push)\n",
    "      \n",
    "    def image_push(self):\n",
    "        # 파일 열기로 이미지 불러오기\n",
    "        global oepnimg\n",
    "        openimg = QtWidgets.QFileDialog.getOpenFileName(self, 'Open File', \"./\", \"Images(*.png *.xpm *.jpg *.gif)\") # img만 불러오기\n",
    "        # openimg[0]에 이미지 경로 저장\n",
    "        \n",
    "        pixmap = QPixmap(\"SavedImage.jpg\") # yolo5에서 저장한 이미지 경로 입력하여 불러오기\n",
    "        \n",
    "        # output 이미지 사이즈 변환\n",
    "        w = int(self.Output_img.width())\n",
    "        h = int(self.Output_img.height())\n",
    "        if int(pixmap.width()) > int(pixmap.height()) :\n",
    "            output = pixmap.scaledToWidth(w)\n",
    "        else :\n",
    "            output = pixmap.scaledToHeight(h)\n",
    "            \n",
    "        #Output 이미지 출력\n",
    "        self.Output_img.setPixmap(output)"
   ]
  },
  {
   "cell_type": "code",
   "execution_count": 4,
   "id": "nearby-courtesy",
   "metadata": {},
   "outputs": [
    {
     "ename": "SystemExit",
     "evalue": "0",
     "output_type": "error",
     "traceback": [
      "An exception has occurred, use %tb to see the full traceback.\n",
      "\u001b[1;31mSystemExit\u001b[0m\u001b[1;31m:\u001b[0m 0\n"
     ]
    },
    {
     "name": "stderr",
     "output_type": "stream",
     "text": [
      "C:\\Anaconda3\\envs\\py3.6\\lib\\site-packages\\IPython\\core\\interactiveshell.py:3351: UserWarning: To exit: use 'exit', 'quit', or Ctrl-D.\n",
      "  warn(\"To exit: use 'exit', 'quit', or Ctrl-D.\", stacklevel=1)\n"
     ]
    }
   ],
   "source": [
    "if __name__ == \"__main__\":\n",
    "    app = QtWidgets.QApplication(sys.argv)\n",
    "    mainWindow = MainWindow()\n",
    "    mainWindow.show()\n",
    "    sys.exit(app.exec_())"
   ]
  },
  {
   "cell_type": "code",
   "execution_count": null,
   "id": "broken-tumor",
   "metadata": {},
   "outputs": [],
   "source": []
  }
 ],
 "metadata": {
  "kernelspec": {
   "display_name": "Python 3",
   "language": "python",
   "name": "python3"
  },
  "language_info": {
   "codemirror_mode": {
    "name": "ipython",
    "version": 3
   },
   "file_extension": ".py",
   "mimetype": "text/x-python",
   "name": "python",
   "nbconvert_exporter": "python",
   "pygments_lexer": "ipython3",
   "version": "3.6.12"
  }
 },
 "nbformat": 4,
 "nbformat_minor": 5
}
