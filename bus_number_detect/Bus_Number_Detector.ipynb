{
 "nbformat": 4,
 "nbformat_minor": 0,
 "metadata": {
  "colab": {
   "name": "Bus_Number_Detector.ipynb",
   "private_outputs": true,
   "provenance": [],
   "collapsed_sections": [],
   "authorship_tag": "ABX9TyPb9Ilbnu82s9T88H7E0Czs"
  },
  "kernelspec": {
   "name": "python3",
   "language": "python",
   "display_name": "Python 3"
  },
  "language_info": {
   "name": "python"
  }
 },
 "cells": [
  {
   "cell_type": "code",
   "metadata": {
    "id": "kP4lI_k2OEOz"
   },
   "source": [
    "# Libaries\n",
    "import requests\n",
    "import json\n",
    "\n",
    "from pprint import pprint\n",
    "import IPython.display as ipd"
   ],
   "execution_count": 10,
   "outputs": []
  },
  {
   "cell_type": "markdown",
   "metadata": {
    "id": "e9w_484suB39"
   },
   "source": [
    "# Send Image Open API"
   ]
  },
  {
   "cell_type": "code",
   "metadata": {
    "id": "GIZRqupht-Nn"
   },
   "source": [
    "# Define Functions to Send Image to OCR Space API \n",
    "# Please don't steal the API key, it's fine to use here but don't use it for other things (just get another)\n",
    "def ocr_space_file(filename, overlay=False, api_key='5fbfe9786f88957', language='eng'):\n",
    "    payload = {'isOverlayRequired': overlay,\n",
    "               'apikey': api_key,\n",
    "               'language': language,\n",
    "               'OCREngine': 1\n",
    "               }\n",
    "    with open(filename, 'rb') as f:\n",
    "        r = requests.post('https://api.ocr.space/parse/image',\n",
    "                          files={filename: f},\n",
    "                          data=payload,\n",
    "                          )\n",
    "    return r.content.decode()\n",
    "\n",
    "\n",
    "def parse_image(img_name):\n",
    "    response = ocr_space_file(img_name)\n",
    "    result = json.loads(response)\n",
    "    # pprint(result)\n",
    "    text = result[\"ParsedResults\"][0][\"ParsedText\"]\n",
    "    text = text.split(\"\\n\")[0]\n",
    "    return text"
   ],
   "execution_count": 46,
   "outputs": []
  },
  {
   "cell_type": "code",
   "metadata": {
    "id": "7dUWgUqRuNbS"
   },
   "source": [
    "test_image = '../yolov5/runs/detect/detect_images/crop_bus22.png'\n",
    "\n",
    "# Call the API and Extract Bus Number\n",
    "try:\n",
    "    bus_number = parse_image(test_image)\n",
    "except Exception as e:\n",
    "    print(e)\n",
    "    bus_number = \"\"\n",
    "\n",
    "print(bus_number)\n",
    "\n",
    "# done = False\n",
    "# if bus_number != \"\":\n",
    "#     print(\"Number Detected:\", bus_number)\n",
    "#     done = True\n",
    "# else:\n",
    "#     bus_number = parse_image(\"ocr.png\")\n",
    "#\n",
    "# if bus_number != \"\" and not done:\n",
    "#     print(\"Number Detected 2:\", bus_number)\n",
    "# elif not done:\n",
    "#     print(\"Cant Read Number on Bus\")\n",
    "#     raise Exception(\"Couldnt Read Bus Number\")"
   ],
   "execution_count": 48,
   "outputs": [
    {
     "name": "stdout",
     "output_type": "stream",
     "text": [
      "3321\r\n"
     ]
    }
   ]
  },
  {
   "cell_type": "markdown",
   "metadata": {
    "id": "86mKOI_zv7BQ"
   },
   "source": [
    "# 음성으로 말하기"
   ]
  },
  {
   "cell_type": "code",
   "metadata": {
    "id": "x0uj6Frwv6ZM"
   },
   "source": [
    "# Prepare Audio File\n",
    "#audio_text = \"Bus \" + bus_number + \" is coming now!\"\n",
    "audio_text = bus_number + \"번 버스가 도착합니다\"\n",
    "language = 'ko'\n",
    "#language = 'en' #'ko'로 바꾸면 한국어\n",
    "audio_obj = gTTS(text=audio_text, lang=language, slow=False) \n",
    "audio_obj.save(\"bus_number.wav\") \n",
    "\n",
    "# Display Option to Play File in Notebook\n",
    "ipd.Audio('bus_number.wav')"
   ],
   "execution_count": 44,
   "outputs": [
    {
     "ename": "NameError",
     "evalue": "name 'gTTS' is not defined",
     "output_type": "error",
     "traceback": [
      "\u001B[1;31m---------------------------------------------------------------------------\u001B[0m",
      "\u001B[1;31mNameError\u001B[0m                                 Traceback (most recent call last)",
      "\u001B[1;32m<ipython-input-44-88ad7530bfb0>\u001B[0m in \u001B[0;36m<module>\u001B[1;34m\u001B[0m\n\u001B[0;32m      4\u001B[0m \u001B[0mlanguage\u001B[0m \u001B[1;33m=\u001B[0m \u001B[1;34m'ko'\u001B[0m\u001B[1;33m\u001B[0m\u001B[1;33m\u001B[0m\u001B[0m\n\u001B[0;32m      5\u001B[0m \u001B[1;31m#language = 'en' #'ko'로 바꾸면 한국어\u001B[0m\u001B[1;33m\u001B[0m\u001B[1;33m\u001B[0m\u001B[1;33m\u001B[0m\u001B[0m\n\u001B[1;32m----> 6\u001B[1;33m \u001B[0maudio_obj\u001B[0m \u001B[1;33m=\u001B[0m \u001B[0mgTTS\u001B[0m\u001B[1;33m(\u001B[0m\u001B[0mtext\u001B[0m\u001B[1;33m=\u001B[0m\u001B[0maudio_text\u001B[0m\u001B[1;33m,\u001B[0m \u001B[0mlang\u001B[0m\u001B[1;33m=\u001B[0m\u001B[0mlanguage\u001B[0m\u001B[1;33m,\u001B[0m \u001B[0mslow\u001B[0m\u001B[1;33m=\u001B[0m\u001B[1;32mFalse\u001B[0m\u001B[1;33m)\u001B[0m\u001B[1;33m\u001B[0m\u001B[1;33m\u001B[0m\u001B[0m\n\u001B[0m\u001B[0;32m      7\u001B[0m \u001B[0maudio_obj\u001B[0m\u001B[1;33m.\u001B[0m\u001B[0msave\u001B[0m\u001B[1;33m(\u001B[0m\u001B[1;34m\"bus_number.wav\"\u001B[0m\u001B[1;33m)\u001B[0m\u001B[1;33m\u001B[0m\u001B[1;33m\u001B[0m\u001B[0m\n\u001B[0;32m      8\u001B[0m \u001B[1;33m\u001B[0m\u001B[0m\n",
      "\u001B[1;31mNameError\u001B[0m: name 'gTTS' is not defined"
     ]
    }
   ]
  }
 ]
}