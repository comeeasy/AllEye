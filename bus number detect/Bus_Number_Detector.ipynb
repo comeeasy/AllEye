{
 "nbformat": 4,
 "nbformat_minor": 0,
 "metadata": {
  "colab": {
   "name": "Bus_Number_Detector.ipynb",
   "private_outputs": true,
   "provenance": [],
   "collapsed_sections": [],
   "authorship_tag": "ABX9TyPb9Ilbnu82s9T88H7E0Czs"
  },
  "kernelspec": {
   "name": "python3",
   "language": "python",
   "display_name": "Python 3"
  },
  "language_info": {
   "name": "python"
  }
 },
 "cells": [
  {
   "cell_type": "code",
   "metadata": {
    "id": "kP4lI_k2OEOz"
   },
   "source": [
    "# Libaries\n",
    "import cv2\n",
    "import requests\n",
    "import json\n",
    "import numpy as np\n",
    "import os\n",
    "from PIL import Image\n",
    "from matplotlib.pyplot import imshow\n",
    "import matplotlib.pyplot as plt\n",
    "from os import getenv, stat\n",
    "from pprint import pprint\n",
    "import IPython.display as ipd\n",
    "from PIL import Image\n",
    "\n",
    "from tkinter import * #창 띄우는 라이브러리\n",
    "import tkinter\n",
    "#win = Tk() # 창 생성\n",
    "#win.geometry(\"1000x500\")\n",
    "#win.mainloop() # 창 실행\n"
   ],
   "execution_count": null,
   "outputs": []
  },
  {
   "cell_type": "code",
   "metadata": {
    "id": "liQPSU9NxFkc"
   },
   "source": [
    "from google.colab import drive\n",
    "drive.mount('/content/drive')"
   ],
   "execution_count": null,
   "outputs": []
  },
  {
   "cell_type": "code",
   "metadata": {
    "id": "QNjxW51KQ8gz"
   },
   "source": [
    "!pip install --target=$my_path jdc\n",
    "! pip install gTTS\n",
    "!apt-get install python3-tk"
   ],
   "execution_count": null,
   "outputs": []
  },
  {
   "cell_type": "code",
   "metadata": {
    "id": "oWXZpm21ZxJe"
   },
   "source": [
    "my_path = '/content/notebooks'\n",
    "# Colab Notebooks 안에 my_env 폴더에 패키지 저장\n",
    "os.symlink('/content/drive/MyDrive/Colab Notebooks/my_env', my_path) #파일 경로 설정하는 부분\n",
    "sys.path.insert(0, my_path)"
   ],
   "execution_count": null,
   "outputs": []
  },
  {
   "cell_type": "code",
   "metadata": {
    "id": "K3-yWDYTtXO2"
   },
   "source": [
    "from gtts import gTTS #음성으로 알려주는 것\n",
    "from IPython.display import Audio #Import Audio method from IPython's Display Class\n",
    "import IPython.display as ipd\n",
    "\n",
    "\n",
    "# List Image Files to Choose From\n",
    "!ls test_img\n",
    "\n",
    "# Select Test Image\n",
    "#bus_data =input(\"원하는 사진을 입력하세요 : \")\n",
    "#test_image = (bus_data) #\"/content/drive/MyDrive/DeepLearning/Bus_Numbers-master/test_img/bus_ext_6.jpg\"\n",
    "\n",
    "# Opening the File\n",
    "#image = Image.open(test_image)\n",
    "#plt.title(\"Visualisation of Image Selected\")\n",
    "#imshow(image)\n",
    "\n",
    "# Select Test Image\n",
    "test_image = \"/content/drive/MyDrive/DeepLearning/Bus_Numbers-master/test_img/bus_ext_6.jpg\" #경로지정하는 부분\n",
    "\n",
    "# Opening the File\n",
    "image = Image.open(test_image)\n",
    "plt.title(\"Visualisation of Image Selected\")\n",
    "imshow(image)"
   ],
   "execution_count": null,
   "outputs": []
  },
  {
   "cell_type": "code",
   "metadata": {
    "id": "s2E_N-rxxcUt"
   },
   "source": [
    ""
   ],
   "execution_count": null,
   "outputs": []
  },
  {
   "cell_type": "code",
   "metadata": {
    "id": "SZWRUfSxOQ3y"
   },
   "source": [
    "## Ensure that the Image is of the Acceptable Size\n",
    "while stat(test_image).st_size > 4100000:\n",
    "    image = Image.open(test_image)\n",
    "    x = int(image.size[0]*0.9)\n",
    "    y = int(image.size[1]*0.9)\n",
    "    image = image.resize((x,y), Image.ANTIALIAS)\n",
    "    test_image = \"/tmp/resized.jpg\"\n",
    "    image.save(test_image)\n",
    "    print(\"Lowered Size of Image by 19%\")"
   ],
   "execution_count": null,
   "outputs": []
  },
  {
   "cell_type": "code",
   "metadata": {
    "id": "gEAOI4oTttYh"
   },
   "source": [
    "# Use the Custom Vision Docker File (Superior Speed and Cost)\n",
    "# NOTE: Change the following docker folder if you are using a different docker folder name\n",
    "! ./custom_vision_docker/run_docker.sh\n",
    "with open(test_image, 'rb') as image_file:\n",
    "    \n",
    "    #custom_vision_response = requests.post(\"http://127.0.0.1/image\", data=image_file, headers={\"Content-Type\": \"application/octet-stream\"} )\n",
    "! docker container kill $(docker ps -q)"
   ],
   "execution_count": null,
   "outputs": []
  },
  {
   "cell_type": "code",
   "metadata": {
    "id": "K0rKk8BEt6UW"
   },
   "source": [
    "# Import Test Image into Python\n",
    "raw_image = Image.open(test_image)\n",
    "width, height = raw_image.size\n",
    "\n",
    "# Set Points for Cropped Image to Bounding Box\n",
    "left = 200 # width*bounding_box['left']\n",
    "right =  450 #left + width*bounding_box['width']\n",
    "top = 200 # height*bounding_box['top']\n",
    "bottom =  280 #top + height*bounding_box['height']\n",
    "\n",
    "# Crop Image\n",
    "bus_num_image = raw_image.crop((left, top, right, bottom))\n",
    "plt.title(\"Image of Bus Number\")\n",
    "imshow(np.asarray(bus_num_image)) #Display the Image\n",
    "plt.plot()"
   ],
   "execution_count": null,
   "outputs": []
  },
  {
   "cell_type": "code",
   "metadata": {
    "id": "Ok_dHoRht87R"
   },
   "source": [
    "ocr_crop_percentage = 0.5\n",
    "# Crop Away ocr_crop_percentage of Left Side for OCR Reasons\n",
    "width, height = bus_num_image.size\n",
    "left = width * ocr_crop_percentage\n",
    "right = width\n",
    "top = 0\n",
    "bottom = height\n",
    "\n",
    "ocr_image = bus_num_image.crop((left, top, right, bottom))\n",
    "\n",
    "# Resize Image with Interpolation if height too big (somehow OCR on Azure doesn't work too well with too sharp of bus numbers)\n",
    "width, height = ocr_image.size\n",
    "if height > 50:\n",
    "    ocr_image = ocr_image.resize((int(width*50/height),50),Image.ANTIALIAS) # Ensure the aspect ratio doesn't change\n",
    "plt.title(\"Cropped Image\")\n",
    "imshow(np.asarray(ocr_image)) #Display the Image\n",
    "\n",
    "# Save OCR Ready Image\n",
    "ocr_image_file = \"ocr.png\"\n",
    "ocr_image.save(ocr_image_file)"
   ],
   "execution_count": null,
   "outputs": []
  },
  {
   "cell_type": "markdown",
   "metadata": {
    "id": "e9w_484suB39"
   },
   "source": [
    "# Send Image Open API"
   ]
  },
  {
   "cell_type": "code",
   "metadata": {
    "id": "GIZRqupht-Nn"
   },
   "source": [
    "# Define Functions to Send Image to OCR Space API \n",
    "# Please don't steal the API key, it's fine to use here but don't use it for other things (just get another)\n",
    "def ocr_space_file(filename, overlay=False, api_key='5fbfe9786f88957', language='eng'):\n",
    "    payload = {'isOverlayRequired': overlay,\n",
    "               'apikey': api_key,\n",
    "               'language': language,\n",
    "               'OCREngine': 2\n",
    "               }\n",
    "    with open(filename, 'rb') as f:\n",
    "        r = requests.post('https://api.ocr.space/parse/image',\n",
    "                          files={filename: f},\n",
    "                          data=payload,\n",
    "                          )\n",
    "    return r.content.decode()\n",
    "\n",
    "\n",
    "def parse_image(img_name):\n",
    "    response = ocr_space_file(img_name)\n",
    "    result = json.loads(response)\n",
    "    pprint(result)\n",
    "    text = result[\"ParsedResults\"][0][\"ParsedText\"]\n",
    "    text = text.split(\"\\n\")[0]\n",
    "    return text"
   ],
   "execution_count": null,
   "outputs": []
  },
  {
   "cell_type": "code",
   "metadata": {
    "id": "7dUWgUqRuNbS"
   },
   "source": [
    "# Call the API and Extract Bus Number\n",
    "try:\n",
    "    bus_number = parse_image(\"resized.png\")\n",
    "except Exception as e:\n",
    "    print(e)\n",
    "    bus_number = \"\"\n",
    "    \n",
    "done = False\n",
    "if bus_number != \"\":\n",
    "    print(\"Number Detected:\", bus_number)\n",
    "    done = True\n",
    "else:\n",
    "    bus_number = parse_image(\"ocr.png\")\n",
    "\n",
    "if bus_number != \"\" and not done:\n",
    "    print(\"Number Detected 2:\", bus_number)\n",
    "elif not done:\n",
    "    print(\"Cant Read Number on Bus\")\n",
    "    raise Exception(\"Couldnt Read Bus Number\")"
   ],
   "execution_count": null,
   "outputs": []
  },
  {
   "cell_type": "markdown",
   "metadata": {
    "id": "86mKOI_zv7BQ"
   },
   "source": [
    "# 음성으로 말하기"
   ]
  },
  {
   "cell_type": "code",
   "metadata": {
    "id": "x0uj6Frwv6ZM"
   },
   "source": [
    "# Prepare Audio File\n",
    "#audio_text = \"Bus \" + bus_number + \" is coming now!\"\n",
    "audio_text = bus_number + \"번 버스가 도착합니다\"\n",
    "language = 'ko'\n",
    "#language = 'en' #'ko'로 바꾸면 한국어\n",
    "audio_obj = gTTS(text=audio_text, lang=language, slow=False) \n",
    "audio_obj.save(\"bus_number.wav\") \n",
    "\n",
    "# Display Option to Play File in Notebook\n",
    "ipd.Audio('bus_number.wav')"
   ],
   "execution_count": null,
   "outputs": []
  }
 ]
}