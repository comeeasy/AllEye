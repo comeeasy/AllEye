{
 "cells": [
  {
   "cell_type": "code",
   "execution_count": 1,
   "id": "young-stocks",
   "metadata": {},
   "outputs": [],
   "source": [
    "#pip install pyqt5\n",
    "#pip install pyqt5-tools\n",
    "from PyQt5.QtWidgets import *\n",
    "from PyQt5.QtGui import *\n",
    "from PyQt5.QtCore import *\n",
    "from PyQt5 import QtCore, QtGui, QtWidgets, uic\n",
    "import sys\n",
    "\n",
    "import pyglet # 오디오 재생"
   ]
  },
  {
   "cell_type": "code",
   "execution_count": 2,
   "id": "statistical-fabric",
   "metadata": {},
   "outputs": [],
   "source": [
    "Ui_Form = uic.loadUiType(\"AllEye_UI.ui\")[0] # ui 파일 불러오기"
   ]
  },
  {
   "cell_type": "code",
   "execution_count": 3,
   "id": "committed-barbados",
   "metadata": {},
   "outputs": [],
   "source": [
    "class MainWindow(QtWidgets.QMainWindow, Ui_Form):\n",
    "    def __init__(self):\n",
    "        super().__init__()\n",
    "        self.setupUi(self)\n",
    "        self.initUI()\n",
    "    \n",
    "    def initUI(self):\n",
    "        self.setWindowTitle(\"All Eye\") # 시스템 이름 설정\n",
    "        self.ImportImg_btn.clicked.connect(self.import_image)\n",
    "        self.Audio_btn.clicked.connect(self.audio)\n",
    "        self.BusNumber_input_btn.clicked.connect(self.input_busnumber)\n",
    "    \n",
    "    # 파일 열기로 이미지 불러오기\n",
    "    def import_image(self):\n",
    "        global oepnimg\n",
    "        openimg = QtWidgets.QFileDialog.getOpenFileName(self, 'Open File', \"./\", \"Images(*.png *.xpm *.jpg *.gif)\") # img만 불러오기\n",
    "        # openimg[0]에 이미지 경로 저장\n",
    "        \n",
    "        self.output_image(openimg)\n",
    "    \n",
    "    # Output 이미지 출력\n",
    "    def output_image(self, openimg):\n",
    "        pixmap = QPixmap(openimg[0]) # yolo5에서 저장한 이미지 경로 입력하여 불러오기\n",
    "        \n",
    "        # output 이미지 사이즈 변환\n",
    "        w = int(self.Output_img.width())\n",
    "        h = int(self.Output_img.height())\n",
    "        if int(pixmap.width()) > int(pixmap.height()) :\n",
    "            output = pixmap.scaledToWidth(w)\n",
    "        else :\n",
    "            output = pixmap.scaledToHeight(h)\n",
    "            \n",
    "        self.Output_img.setPixmap(output)\n",
    "        \n",
    "        self.output_busnumber(5626) # 버스번호출력, ocr로 얻은 숫자 입력, 다른 곳으로 옮겨야함\n",
    "        \n",
    "    # 버스번호 출력\n",
    "    def output_busnumber(self, bus_number):\n",
    "        self.Output_BusNumber.setText(str(bus_number))\n",
    "    \n",
    "    # 오디오 재생 버튼\n",
    "    def audio(self):\n",
    "        song = pyglet.media.load('./bus_number.mp3')\n",
    "        song.play()\n",
    "        pyglet.app.run()\n",
    "    \n",
    "    def input_busnumber(self):\n",
    "        global input_BN\n",
    "        input_BN = self.BusNumber_input.toPlainText() # 입력한 버스 번호 저장"
   ]
  },
  {
   "cell_type": "code",
   "execution_count": 4,
   "id": "nearby-courtesy",
   "metadata": {},
   "outputs": [
    {
     "ename": "SystemExit",
     "evalue": "0",
     "output_type": "error",
     "traceback": [
      "An exception has occurred, use %tb to see the full traceback.\n",
      "\u001b[1;31mSystemExit\u001b[0m\u001b[1;31m:\u001b[0m 0\n"
     ]
    },
    {
     "name": "stderr",
     "output_type": "stream",
     "text": [
      "C:\\Anaconda3\\envs\\py3.6\\lib\\site-packages\\IPython\\core\\interactiveshell.py:3351: UserWarning: To exit: use 'exit', 'quit', or Ctrl-D.\n",
      "  warn(\"To exit: use 'exit', 'quit', or Ctrl-D.\", stacklevel=1)\n"
     ]
    }
   ],
   "source": [
    "if __name__ == \"__main__\":\n",
    "    app = QtWidgets.QApplication(sys.argv)\n",
    "    mainWindow = MainWindow()\n",
    "    mainWindow.show()\n",
    "    sys.exit(app.exec_())"
   ]
  }
 ],
 "metadata": {
  "kernelspec": {
   "display_name": "Python 3",
   "language": "python",
   "name": "python3"
  },
  "language_info": {
   "codemirror_mode": {
    "name": "ipython",
    "version": 3
   },
   "file_extension": ".py",
   "mimetype": "text/x-python",
   "name": "python",
   "nbconvert_exporter": "python",
   "pygments_lexer": "ipython3",
   "version": "3.6.12"
  }
 },
 "nbformat": 4,
 "nbformat_minor": 5
}
